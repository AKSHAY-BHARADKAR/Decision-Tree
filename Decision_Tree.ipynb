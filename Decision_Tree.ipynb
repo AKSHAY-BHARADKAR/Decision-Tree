{
  "nbformat": 4,
  "nbformat_minor": 0,
  "metadata": {
    "colab": {
      "provenance": []
    },
    "kernelspec": {
      "name": "python3",
      "display_name": "Python 3"
    },
    "language_info": {
      "name": "python"
    }
  },
  "cells": [
    {
      "cell_type": "code",
      "execution_count": null,
      "metadata": {
        "id": "vGxApBoa-g3y"
      },
      "outputs": [],
      "source": []
    },
    {
      "cell_type": "markdown",
      "source": [
        "Q. 1. What is a Decision Tree, and how does it work?\n",
        "\n",
        "Answer :-\n",
        "\n",
        "A Decision Tree is a flowchart-like structure used for classification and regression. It splits the dataset into subsets based on the feature that results in the highest information gain or the lowest impurity (Gini/Entropy). It consists of nodes (tests on attributes), branches (outcomes), and leaves (predicted labels).\n",
        "\n",
        "Q. 2. What are impurity measures in Decision Trees?\n",
        "\n",
        "Answer :-\n",
        "\n",
        "   Impurity measures quantify the homogeneity of a node. Common impurity measures include:\n",
        "\n",
        "   * Gini Impurity\n",
        "   * Entropy (Information Gain)\n",
        "\n",
        "Q. 3. What is the mathematical formula for Gini Impurity?\n",
        "\n",
        "Answer :-\n",
        "\n",
        "   $$\n",
        "   Gini = 1 - \\sum_{i=1}^{n} p_i^2\n",
        "   $$\n",
        "\n",
        "   where $p_i$ is the probability of class $i$ in a node.\n",
        "\n",
        "\n",
        "\n",
        "\n",
        "Q. 4. What is the mathematical formula for Entropy?\n",
        "\n",
        "Answer :-\n",
        "   $$\n",
        "   Entropy = - \\sum_{i=1}^{n} p_i \\log_2(p_i)\n",
        "   $$\n",
        "\n",
        "Q. 5. What is Information Gain, and how is it used in Decision Trees?\n",
        "\n",
        "Answer :-\n",
        "\n",
        "  What is Information Gain?\n",
        "\n",
        "•\tInformation Gain (IG) measures how much \"information\" a feature gives us about the class.\n",
        "\n",
        "•\tIt quantifies the reduction in uncertainty or entropy about the target variable after splitting the dataset based on a feature.\n",
        "\n",
        "•\tIn other words, it tells us how well a feature separates the data into classes.\n",
        "\n",
        "How is Information Gain used in Decision Trees?\n",
        "\n",
        "•\tAt each node, the Decision Tree algorithm considers all features and calculates the Information Gain for splitting on each feature.\n",
        "\n",
        "•\tThe feature with the highest Information Gain is chosen to split the data because it best reduces uncertainty.\n",
        "\n",
        "•\tThis process is repeated recursively, building a tree that partitions the data to achieve the best classification.\n",
        "\n",
        "\n",
        "Q. 6. What is the difference between Gini Impurity and Entropy?\n",
        "\n",
        "Answer :-\n",
        "\n",
        "Gini Impurity is faster and typically used in the CART algorithm.\n",
        "Entropy is based on information theory and tends to be more informative but computationally heavier.\n",
        "Both aim to find pure splits, but results may vary slightly.\n",
        "\n",
        "Q. 7. What is the mathematical explanation behind Decision Trees?\n",
        "\n",
        "Answer :-\n",
        "\n",
        " Decision Trees use a greedy algorithm to recursively select the best feature that splits the data with the highest Information Gain or lowest Gini Impurity. The tree is built top-down, and stopping conditions include max depth, min samples per split, or pure nodes.\n",
        "\n",
        "\n",
        "\n",
        "Q. 8. What is Pre-Pruning in Decision Trees?\n",
        "\n",
        "Answer :-\n",
        "\n",
        "   Pre-pruning stops the tree building early using constraints like:\n",
        "\n",
        "   * Maximum depth\n",
        "   * Minimum samples per leaf/split\n",
        "   * Minimum impurity decrease\n",
        "\n",
        "Q. 9. What is Post-Pruning in Decision Trees?\n",
        "\n",
        "Answer :-\n",
        "\n",
        "   What is Post-Pruning?\n",
        "\n",
        "•\tAfter building a full decision tree (which might be very deep and complex), post-pruning removes some of the branches or subtrees.\n",
        "\n",
        "•\tIt simplifies the tree by cutting back parts that do not provide significant predictive power on unseen data.\n",
        "\n",
        "•\tThe goal is to reduce the model's complexity and prevent overfitting.\n",
        "\n",
        "\n",
        "Q. 10. What is the difference between Pre-Pruning and Post-Pruning?\n",
        "\n",
        "Answer :-\n",
        "\n",
        "* Pre-Pruning - halts growth early (prevents complexity).\n",
        "* Post-Pruning - trims a fully grown tree (removes overfitting).\n",
        "\n",
        "Q. 11. What is a Decision Tree Regressor?\n",
        "\n",
        "Answer :-\n",
        "\n",
        "What is a Decision Tree Regressor?\n",
        "\n",
        "•\tIt builds a tree structure by splitting the data into subsets based on feature values, similar to a Decision Tree Classifier.\n",
        "\n",
        "•\tBut instead of class labels, the target variable is continuous (e.g., house prices, temperatures, etc.).\n",
        "\n",
        "•\tAt each leaf node, it predicts a numeric value, typically the mean of the target values in that subset.\n",
        "\n",
        "\n",
        "\n",
        "\n",
        "Q. 12. What are the advantages and disadvantages of Decision Trees?\n",
        "\n",
        "Answer :-\n",
        "\n",
        " Advantages:\n",
        "* Easy to understand\n",
        "* Requires little data preprocessing\n",
        "* Works for both classification and regression\n",
        "\n",
        "Disadvantages:\n",
        "* Prone to overfitting\n",
        "* Unstable (small data changes can change the tree)\n",
        "* Can be biased with unbalanced data\n",
        "\n",
        "Q. 13. How does a Decision Tree handle missing values?\n",
        "\n",
        "Answer :-\n",
        "\n",
        "    Strategies include:\n",
        "* Ignoring missing values during splits\n",
        "* Surrogate splits (use similar features)\n",
        "* Imputing values before training\n",
        "\n",
        "Q. 14. How does a Decision Tree handle categorical features?\n",
        "\n",
        "Answer :-\n",
        "\n",
        "* Some implementations support direct handling of categorical data.\n",
        "* Others convert categories to dummy/label encoding.\n",
        "* It evaluates all possible splits of categorical values.\n",
        "\n",
        "Q. 15. What are some real-world applications of Decision Trees?\n",
        "\n",
        "Answer :-\n",
        "\n",
        "* Credit scoring\n",
        "* Medical diagnosis\n",
        "* Customer segmentation\n",
        "* Fraud detection\n",
        "* Recommendation systems\n"
      ],
      "metadata": {
        "id": "DHDvM1xF-uvN"
      }
    },
    {
      "cell_type": "markdown",
      "source": [
        "Practical Questions"
      ],
      "metadata": {
        "id": "JSnabEnr_MBQ"
      }
    },
    {
      "cell_type": "code",
      "source": [
        "# Q. 16. Write a python program to train a Decision Tree Classifier on the Iris dataset and print the model accuracy.\n",
        "\n",
        "# Import necessary libraries\n",
        "from sklearn.datasets import load_iris\n",
        "from sklearn.tree import DecisionTreeClassifier\n",
        "from sklearn.model_selection import train_test_split\n",
        "from sklearn.metrics import accuracy_score\n",
        "\n",
        "# Load the Iris dataset\n",
        "iris = load_iris()\n",
        "X = iris.data  # Features\n",
        "y = iris.target  # Target labels\n",
        "\n",
        "# Split the dataset into training and testing sets (80% train, 20% test)\n",
        "X_train, X_test, y_train, y_test = train_test_split(X, y, test_size=0.2, random_state=42)\n",
        "\n",
        "# Initialize the Decision Tree Classifier\n",
        "clf = DecisionTreeClassifier(random_state=42)\n",
        "\n",
        "# Train the model\n",
        "clf.fit(X_train, y_train)\n",
        "\n",
        "# Make predictions on the test set\n",
        "y_pred = clf.predict(X_test)\n",
        "\n",
        "# Calculate and print the accuracy\n",
        "accuracy = accuracy_score(y_test, y_pred)\n",
        "print(f\"Model Accuracy: {accuracy:.2f}\")\n",
        "\n"
      ],
      "metadata": {
        "colab": {
          "base_uri": "https://localhost:8080/"
        },
        "id": "5uu3omWE_OTr",
        "outputId": "63c17508-1433-4478-b6af-a155b51c8f6d"
      },
      "execution_count": null,
      "outputs": [
        {
          "output_type": "stream",
          "name": "stdout",
          "text": [
            "Model Accuracy: 1.00\n"
          ]
        }
      ]
    },
    {
      "cell_type": "code",
      "source": [
        "# Q. 17. Write a python program to train a Decision Tree Classifier using Gini Impurity as the criterion and print the feature importances.\n",
        "\n",
        "# Import necessary libraries\n",
        "from sklearn.datasets import load_iris\n",
        "from sklearn.tree import DecisionTreeClassifier\n",
        "\n",
        "# Load the Iris dataset\n",
        "iris = load_iris()\n",
        "X = iris.data\n",
        "y = iris.target\n",
        "feature_names = iris.feature_names\n",
        "\n",
        "# Initialize the Decision Tree Classifier with Gini Impurity\n",
        "clf = DecisionTreeClassifier(criterion='gini', random_state=42)\n",
        "\n",
        "# Train the model\n",
        "clf.fit(X, y)\n",
        "\n",
        "# Get and print feature importances\n",
        "importances = clf.feature_importances_\n",
        "for name, importance in zip(feature_names, importances):\n",
        "    print(f\"{name}: {importance:.4f}\")\n"
      ],
      "metadata": {
        "colab": {
          "base_uri": "https://localhost:8080/"
        },
        "id": "F57hNVke_oSM",
        "outputId": "fb6b2df7-0ced-47bc-f9cf-be0f2eecdcf4"
      },
      "execution_count": null,
      "outputs": [
        {
          "output_type": "stream",
          "name": "stdout",
          "text": [
            "sepal length (cm): 0.0133\n",
            "sepal width (cm): 0.0000\n",
            "petal length (cm): 0.5641\n",
            "petal width (cm): 0.4226\n"
          ]
        }
      ]
    },
    {
      "cell_type": "code",
      "source": [
        "# Q. 18. Write a python program to train a Decision Tree Classifier using Entropy as the splitting criterion and print the model accuracy.\n",
        "\n",
        "# Import necessary libraries\n",
        "from sklearn.datasets import load_iris\n",
        "from sklearn.tree import DecisionTreeClassifier\n",
        "from sklearn.model_selection import train_test_split\n",
        "from sklearn.metrics import accuracy_score\n",
        "\n",
        "# Load the Iris dataset\n",
        "iris = load_iris()\n",
        "X = iris.data\n",
        "y = iris.target\n",
        "\n",
        "# Split the dataset into training and testing sets (80% train, 20% test)\n",
        "X_train, X_test, y_train, y_test = train_test_split(X, y, test_size=0.2, random_state=42)\n",
        "\n",
        "# Initialize the Decision Tree Classifier with Entropy criterion\n",
        "clf = DecisionTreeClassifier(criterion='entropy', random_state=42)\n",
        "\n",
        "# Train the model\n",
        "clf.fit(X_train, y_train)\n",
        "\n",
        "# Make predictions on the test set\n",
        "y_pred = clf.predict(X_test)\n",
        "\n",
        "# Calculate and print the accuracy\n",
        "accuracy = accuracy_score(y_test, y_pred)\n",
        "print(f\"Model Accuracy (using entropy): {accuracy:.2f}\")\n"
      ],
      "metadata": {
        "colab": {
          "base_uri": "https://localhost:8080/"
        },
        "id": "wOSE-CAA_yld",
        "outputId": "61ba9ec4-0de0-4094-b9c6-78509bacaca9"
      },
      "execution_count": null,
      "outputs": [
        {
          "output_type": "stream",
          "name": "stdout",
          "text": [
            "Model Accuracy (using entropy): 1.00\n"
          ]
        }
      ]
    },
    {
      "cell_type": "code",
      "source": [
        "# Q. 19. Write a python program to train a Decision Tree Regressor on housing dataset and evaluate using Mean Squared Error ( MSE ).\n",
        "\n",
        "# Import necessary libraries\n",
        "from sklearn.datasets import fetch_california_housing\n",
        "from sklearn.tree import DecisionTreeRegressor\n",
        "from sklearn.model_selection import train_test_split\n",
        "from sklearn.metrics import mean_squared_error\n",
        "\n",
        "# Load the California housing dataset\n",
        "housing = fetch_california_housing()\n",
        "X = housing.data\n",
        "y = housing.target\n",
        "\n",
        "# Split the dataset into training and testing sets (80% train, 20% test)\n",
        "X_train, X_test, y_train, y_test = train_test_split(X, y, test_size=0.2, random_state=42)\n",
        "\n",
        "# Initialize the Decision Tree Regressor\n",
        "regressor = DecisionTreeRegressor(random_state=42)\n",
        "\n",
        "# Train the model\n",
        "regressor.fit(X_train, y_train)\n",
        "\n",
        "# Make predictions on the test set\n",
        "y_pred = regressor.predict(X_test)\n",
        "\n",
        "# Calculate and print Mean Squared Error\n",
        "mse = mean_squared_error(y_test, y_pred)\n",
        "print(f\"Mean Squared Error: {mse:.2f}\")\n"
      ],
      "metadata": {
        "colab": {
          "base_uri": "https://localhost:8080/"
        },
        "id": "7WVigoro_8ld",
        "outputId": "3a2d85f0-6a7c-443d-f9e5-877b5f915176"
      },
      "execution_count": null,
      "outputs": [
        {
          "output_type": "stream",
          "name": "stdout",
          "text": [
            "Mean Squared Error: 0.50\n"
          ]
        }
      ]
    },
    {
      "cell_type": "code",
      "source": [
        "# Q. 20. Write a python program to train a Decision Tree Classifier and Visualize the tree using Graphviz.\n",
        "\n",
        "# Import necessary libraries\n",
        "from sklearn.datasets import load_iris\n",
        "from sklearn.tree import DecisionTreeClassifier, export_graphviz\n",
        "import graphviz\n",
        "\n",
        "# Load the Iris dataset\n",
        "iris = load_iris()\n",
        "X = iris.data\n",
        "y = iris.target\n",
        "feature_names = iris.feature_names\n",
        "class_names = iris.target_names\n",
        "\n",
        "# Train a Decision Tree Classifier\n",
        "clf = DecisionTreeClassifier(random_state=42)\n",
        "clf.fit(X, y)\n",
        "\n",
        "# Export the decision tree to DOT format\n",
        "dot_data = export_graphviz(clf, out_file=None,\n",
        "                           feature_names=feature_names,\n",
        "                           class_names=class_names,\n",
        "                           filled=True, rounded=True,\n",
        "                           special_characters=True)\n",
        "\n",
        "# Visualize the tree using graphviz\n",
        "graph = graphviz.Source(dot_data)\n",
        "graph.render(\"iris_decision_tree\", format='png', cleanup=True)  # Saves as PNG\n",
        "graph.view()  # Opens the image in the default viewer\n"
      ],
      "metadata": {
        "colab": {
          "base_uri": "https://localhost:8080/",
          "height": 35
        },
        "id": "JhALCtIMAHdm",
        "outputId": "9085727b-62fa-4f8a-a554-750bff19d5e9"
      },
      "execution_count": null,
      "outputs": [
        {
          "output_type": "execute_result",
          "data": {
            "text/plain": [
              "'iris_decision_tree.pdf'"
            ],
            "application/vnd.google.colaboratory.intrinsic+json": {
              "type": "string"
            }
          },
          "metadata": {},
          "execution_count": 5
        }
      ]
    },
    {
      "cell_type": "code",
      "source": [
        "# Q. 21. Write a python program to train a Decision Tree Classifier with maximum depth of 3 and compare its accuracy with full grown tree.\n",
        "\n",
        "# Import necessary libraries\n",
        "from sklearn.datasets import load_iris\n",
        "from sklearn.tree import DecisionTreeClassifier\n",
        "from sklearn.model_selection import train_test_split\n",
        "from sklearn.metrics import accuracy_score\n",
        "\n",
        "# Load the Iris dataset\n",
        "iris = load_iris()\n",
        "X = iris.data\n",
        "y = iris.target\n",
        "\n",
        "# Split into train and test sets (80% train, 20% test)\n",
        "X_train, X_test, y_train, y_test = train_test_split(X, y, test_size=0.2, random_state=42)\n",
        "\n",
        "# Train a Decision Tree with max_depth=3\n",
        "clf_limited = DecisionTreeClassifier(max_depth=3, random_state=42)\n",
        "clf_limited.fit(X_train, y_train)\n",
        "y_pred_limited = clf_limited.predict(X_test)\n",
        "accuracy_limited = accuracy_score(y_test, y_pred_limited)\n",
        "\n",
        "# Train a fully grown Decision Tree\n",
        "clf_full = DecisionTreeClassifier(random_state=42)\n",
        "clf_full.fit(X_train, y_train)\n",
        "y_pred_full = clf_full.predict(X_test)\n",
        "accuracy_full = accuracy_score(y_test, y_pred_full)\n",
        "\n",
        "# Print the accuracies\n",
        "print(f\"Accuracy with max_depth=3: {accuracy_limited:.2f}\")\n",
        "print(f\"Accuracy with full tree:    {accuracy_full:.2f}\")\n"
      ],
      "metadata": {
        "colab": {
          "base_uri": "https://localhost:8080/"
        },
        "id": "vf5dt557AS0-",
        "outputId": "c523b1cc-17d7-4f3f-e7b1-d469bd958251"
      },
      "execution_count": null,
      "outputs": [
        {
          "output_type": "stream",
          "name": "stdout",
          "text": [
            "Accuracy with max_depth=3: 1.00\n",
            "Accuracy with full tree:    1.00\n"
          ]
        }
      ]
    },
    {
      "cell_type": "code",
      "source": [
        "# Q. 22. Write a python program to train a Decision Tree Classifier using  min_samples_split=5 and compare its accuracy with a default tree.\n",
        "\n",
        "# Import necessary libraries\n",
        "from sklearn.datasets import load_iris\n",
        "from sklearn.tree import DecisionTreeClassifier\n",
        "from sklearn.model_selection import train_test_split\n",
        "from sklearn.metrics import accuracy_score\n",
        "\n",
        "# Load the Iris dataset\n",
        "iris = load_iris()\n",
        "X = iris.data\n",
        "y = iris.target\n",
        "\n",
        "# Split into training and testing sets (80% train, 20% test)\n",
        "X_train, X_test, y_train, y_test = train_test_split(X, y, test_size=0.2, random_state=42)\n",
        "\n",
        "# Train Decision Tree with min_samples_split=5\n",
        "clf_split_5 = DecisionTreeClassifier(min_samples_split=5, random_state=42)\n",
        "clf_split_5.fit(X_train, y_train)\n",
        "y_pred_split_5 = clf_split_5.predict(X_test)\n",
        "accuracy_split_5 = accuracy_score(y_test, y_pred_split_5)\n",
        "\n",
        "# Train default Decision Tree\n",
        "clf_default = DecisionTreeClassifier(random_state=42)\n",
        "clf_default.fit(X_train, y_train)\n",
        "y_pred_default = clf_default.predict(X_test)\n",
        "accuracy_default = accuracy_score(y_test, y_pred_default)\n",
        "\n",
        "# Print the accuracies\n",
        "print(f\"Accuracy with min_samples_split=5: {accuracy_split_5:.2f}\")\n",
        "print(f\"Accuracy with default settings:     {accuracy_default:.2f}\")\n"
      ],
      "metadata": {
        "colab": {
          "base_uri": "https://localhost:8080/"
        },
        "id": "pl78iEJ3AdB3",
        "outputId": "fceda97d-77f3-401b-e4ee-232e0d946768"
      },
      "execution_count": null,
      "outputs": [
        {
          "output_type": "stream",
          "name": "stdout",
          "text": [
            "Accuracy with min_samples_split=5: 1.00\n",
            "Accuracy with default settings:     1.00\n"
          ]
        }
      ]
    },
    {
      "cell_type": "code",
      "source": [
        "# Q. 23. Write a python program to apply feature scaling before training a Decision Tree Classifier and compare its accuracy with a default tree.\n",
        "\n",
        "# Import necessary libraries\n",
        "from sklearn.datasets import load_iris\n",
        "from sklearn.tree import DecisionTreeClassifier\n",
        "from sklearn.preprocessing import StandardScaler\n",
        "from sklearn.model_selection import train_test_split\n",
        "from sklearn.metrics import accuracy_score\n",
        "\n",
        "# Load the Iris dataset\n",
        "iris = load_iris()\n",
        "X = iris.data\n",
        "y = iris.target\n",
        "\n",
        "# Split into training and testing sets (80% train, 20% test)\n",
        "X_train, X_test, y_train, y_test = train_test_split(X, y, test_size=0.2, random_state=42)\n",
        "\n",
        "# Apply feature scaling using StandardScaler\n",
        "scaler = StandardScaler()\n",
        "X_train_scaled = scaler.fit_transform(X_train)\n",
        "X_test_scaled = scaler.transform(X_test)\n",
        "\n",
        "# Train a Decision Tree on scaled data\n",
        "clf_scaled = DecisionTreeClassifier(random_state=42)\n",
        "clf_scaled.fit(X_train_scaled, y_train)\n",
        "y_pred_scaled = clf_scaled.predict(X_test_scaled)\n",
        "accuracy_scaled = accuracy_score(y_test, y_pred_scaled)\n",
        "\n",
        "# Train a default Decision Tree on unscaled data\n",
        "clf_default = DecisionTreeClassifier(random_state=42)\n",
        "clf_default.fit(X_train, y_train)\n",
        "y_pred_default = clf_default.predict(X_test)\n",
        "accuracy_default = accuracy_score(y_test, y_pred_default)\n",
        "\n",
        "# Print the accuracies\n",
        "print(f\"Accuracy with feature scaling: {accuracy_scaled:.2f}\")\n",
        "print(f\"Accuracy without scaling:      {accuracy_default:.2f}\")\n"
      ],
      "metadata": {
        "colab": {
          "base_uri": "https://localhost:8080/"
        },
        "id": "tzb5jJ71AkSf",
        "outputId": "fd5e00e0-f59e-42dc-8476-f0c4952989ec"
      },
      "execution_count": null,
      "outputs": [
        {
          "output_type": "stream",
          "name": "stdout",
          "text": [
            "Accuracy with feature scaling: 1.00\n",
            "Accuracy without scaling:      1.00\n"
          ]
        }
      ]
    },
    {
      "cell_type": "code",
      "source": [
        "# Q. 24. Write a python program to train a Decision Tree Classifier Using One-vs-Rest ( OvR ) strategy for multiclass classification.\n",
        "\n",
        "# Import necessary libraries\n",
        "from sklearn.datasets import load_iris\n",
        "from sklearn.tree import DecisionTreeClassifier\n",
        "from sklearn.multiclass import OneVsRestClassifier\n",
        "from sklearn.model_selection import train_test_split\n",
        "from sklearn.metrics import accuracy_score\n",
        "\n",
        "# Load the Iris dataset\n",
        "iris = load_iris()\n",
        "X = iris.data\n",
        "y = iris.target\n",
        "\n",
        "# Split into training and testing sets (80% train, 20% test)\n",
        "X_train, X_test, y_train, y_test = train_test_split(X, y, test_size=0.2, random_state=42)\n",
        "\n",
        "# Initialize Decision Tree inside One-vs-Rest wrapper\n",
        "ovr_clf = OneVsRestClassifier(DecisionTreeClassifier(random_state=42))\n",
        "\n",
        "# Train the OvR model\n",
        "ovr_clf.fit(X_train, y_train)\n",
        "\n",
        "# Predict on the test set\n",
        "y_pred = ovr_clf.predict(X_test)\n",
        "\n",
        "# Evaluate accuracy\n",
        "accuracy = accuracy_score(y_test, y_pred)\n",
        "print(f\"Model Accuracy using One-vs-Rest: {accuracy:.2f}\")\n"
      ],
      "metadata": {
        "colab": {
          "base_uri": "https://localhost:8080/"
        },
        "id": "8VF69v9uAxmu",
        "outputId": "e121fcb6-6943-454d-d2a3-1f2e3230ce2c"
      },
      "execution_count": null,
      "outputs": [
        {
          "output_type": "stream",
          "name": "stdout",
          "text": [
            "Model Accuracy using One-vs-Rest: 1.00\n"
          ]
        }
      ]
    },
    {
      "cell_type": "code",
      "source": [
        "# Q. 25. Write a python program to train a Decision Tree Classifier and Display the feature importance scores.\n",
        "\n",
        "# Import necessary libraries\n",
        "from sklearn.datasets import load_iris\n",
        "from sklearn.tree import DecisionTreeClassifier\n",
        "\n",
        "# Load the Iris dataset\n",
        "iris = load_iris()\n",
        "X = iris.data\n",
        "y = iris.target\n",
        "feature_names = iris.feature_names\n",
        "\n",
        "# Train the Decision Tree Classifier\n",
        "clf = DecisionTreeClassifier(random_state=42)\n",
        "clf.fit(X, y)\n",
        "\n",
        "# Get and display feature importances\n",
        "importances = clf.feature_importances_\n",
        "print(\"Feature Importance Scores:\")\n",
        "for name, score in zip(feature_names, importances):\n",
        "    print(f\"{name}: {score:.4f}\")\n"
      ],
      "metadata": {
        "colab": {
          "base_uri": "https://localhost:8080/"
        },
        "id": "5iRCfB36A7q8",
        "outputId": "b6d7a15a-b9fd-4750-b62d-fef5c5167ec1"
      },
      "execution_count": null,
      "outputs": [
        {
          "output_type": "stream",
          "name": "stdout",
          "text": [
            "Feature Importance Scores:\n",
            "sepal length (cm): 0.0133\n",
            "sepal width (cm): 0.0000\n",
            "petal length (cm): 0.5641\n",
            "petal width (cm): 0.4226\n"
          ]
        }
      ]
    },
    {
      "cell_type": "code",
      "source": [
        "# Q. 26. Write a python program to train a Decision Tree Regressor with max_depth=5 and compare its performance with an unrestricted tree.\n",
        "\n",
        "from sklearn.datasets import fetch_california_housing\n",
        "from sklearn.tree import DecisionTreeRegressor\n",
        "from sklearn.model_selection import train_test_split\n",
        "from sklearn.metrics import mean_squared_error\n",
        "\n",
        "# Load the California housing dataset\n",
        "housing = fetch_california_housing()\n",
        "X = housing.data\n",
        "y = housing.target\n",
        "\n",
        "# Split into train and test sets (80% train, 20% test)\n",
        "X_train, X_test, y_train, y_test = train_test_split(X, y, test_size=0.2, random_state=42)\n",
        "\n",
        "# Train Decision Tree Regressor with max_depth=5\n",
        "regressor_limited = DecisionTreeRegressor(max_depth=5, random_state=42)\n",
        "regressor_limited.fit(X_train, y_train)\n",
        "y_pred_limited = regressor_limited.predict(X_test)\n",
        "mse_limited = mean_squared_error(y_test, y_pred_limited)\n",
        "\n",
        "# Train unrestricted Decision Tree Regressor\n",
        "regressor_full = DecisionTreeRegressor(random_state=42)\n",
        "regressor_full.fit(X_train, y_train)\n",
        "y_pred_full = regressor_full.predict(X_test)\n",
        "mse_full = mean_squared_error(y_test, y_pred_full)\n",
        "\n",
        "# Print MSE results\n",
        "print(f\"MSE with max_depth=5: {mse_limited:.3f}\")\n",
        "print(f\"MSE with unrestricted tree: {mse_full:.3f}\")\n"
      ],
      "metadata": {
        "colab": {
          "base_uri": "https://localhost:8080/"
        },
        "id": "zv-ofX1-BG-o",
        "outputId": "b7acba75-9990-464b-a8d8-d6cbb7061fb6"
      },
      "execution_count": null,
      "outputs": [
        {
          "output_type": "stream",
          "name": "stdout",
          "text": [
            "MSE with max_depth=5: 0.525\n",
            "MSE with unrestricted tree: 0.495\n"
          ]
        }
      ]
    },
    {
      "cell_type": "code",
      "source": [
        "# Q. 27. Write a python program to train a Decision Tree Classifier, Apply Cost Complexity Pruning (CCP), and visualize its effect on accuracy.\n",
        "\n",
        "import matplotlib.pyplot as plt\n",
        "from sklearn.datasets import load_iris\n",
        "from sklearn.tree import DecisionTreeClassifier\n",
        "from sklearn.model_selection import train_test_split\n",
        "from sklearn.metrics import accuracy_score\n",
        "\n",
        "# Load the Iris dataset\n",
        "iris = load_iris()\n",
        "X, y = iris.data, iris.target\n",
        "\n",
        "# Split into train/test sets\n",
        "X_train, X_test, y_train, y_test = train_test_split(X, y, test_size=0.2, random_state=42)\n",
        "\n",
        "# Train an initial tree to get effective alphas for pruning\n",
        "clf = DecisionTreeClassifier(random_state=42)\n",
        "clf.fit(X_train, y_train)\n",
        "\n",
        "# Get effective alphas and corresponding number of nodes\n",
        "path = clf.cost_complexity_pruning_path(X_train, y_train)\n",
        "ccp_alphas, impurities = path.ccp_alphas, path.impurities\n",
        "\n",
        "# Train trees for each alpha and record accuracy\n",
        "train_scores = []\n",
        "test_scores = []\n",
        "\n",
        "for ccp_alpha in ccp_alphas:\n",
        "    clf_pruned = DecisionTreeClassifier(random_state=42, ccp_alpha=ccp_alpha)\n",
        "    clf_pruned.fit(X_train, y_train)\n",
        "\n",
        "    y_train_pred = clf_pruned.predict(X_train)\n",
        "    y_test_pred = clf_pruned.predict(X_test)\n",
        "\n",
        "    train_scores.append(accuracy_score(y_train, y_train_pred))\n",
        "    test_scores.append(accuracy_score(y_test, y_test_pred))\n",
        "\n",
        "# Plot accuracy vs alpha\n",
        "plt.figure(figsize=(8, 4))\n",
        "plt.plot(ccp_alphas, train_scores, marker='o', label='Train Accuracy')\n",
        "plt.plot(ccp_alphas, test_scores, marker='o', label='Test Accuracy')\n",
        "plt.xlabel('CCP Alpha')\n",
        "plt.ylabel('Accuracy')\n",
        "plt.title('Effect of Cost Complexity Pruning on Decision Tree Accuracy')\n",
        "plt.legend()\n",
        "plt.grid(True)\n",
        "plt.show()\n"
      ],
      "metadata": {
        "colab": {
          "base_uri": "https://localhost:8080/",
          "height": 410
        },
        "id": "AR6iJ_ayBOH4",
        "outputId": "25ac0608-b068-4121-9051-72c7908d4d2f"
      },
      "execution_count": null,
      "outputs": [
        {
          "output_type": "display_data",
          "data": {
            "text/plain": [
              "<Figure size 800x400 with 1 Axes>"
            ],
            "image/png": "[encoded data removed]"
          },
          "metadata": {}
        }
      ]
    },
    {
      "cell_type": "code",
      "source": [
        "# Q. 28. Write a python program to train a Decision Tree Classifier and evaluate its performance using Precision, Recall, and F1-Score.\n",
        "\n",
        "from sklearn.datasets import load_iris\n",
        "from sklearn.tree import DecisionTreeClassifier\n",
        "from sklearn.model_selection import train_test_split\n",
        "from sklearn.metrics import precision_score, recall_score, f1_score, classification_report\n",
        "\n",
        "# Load the Iris dataset\n",
        "iris = load_iris()\n",
        "X, y = iris.data, iris.target\n",
        "\n",
        "# Split into train/test sets\n",
        "X_train, X_test, y_train, y_test = train_test_split(X, y, test_size=0.2, random_state=42)\n",
        "\n",
        "# Train Decision Tree Classifier\n",
        "clf = DecisionTreeClassifier(random_state=42)\n",
        "clf.fit(X_train, y_train)\n",
        "\n",
        "# Predict on test set\n",
        "y_pred = clf.predict(X_test)\n",
        "\n",
        "# Calculate precision, recall, and f1-score (macro average for multiclass)\n",
        "precision = precision_score(y_test, y_pred, average='macro')\n",
        "recall = recall_score(y_test, y_pred, average='macro')\n",
        "f1 = f1_score(y_test, y_pred, average='macro')\n",
        "\n",
        "# Print the scores\n",
        "print(f\"Precision: {precision:.2f}\")\n",
        "print(f\"Recall:    {recall:.2f}\")\n",
        "print(f\"F1-Score:  {f1:.2f}\")\n",
        "\n",
        "# Optional: Detailed classification report\n",
        "print(\"\\nClassification Report:\\n\", classification_report(y_test, y_pred))\n"
      ],
      "metadata": {
        "colab": {
          "base_uri": "https://localhost:8080/"
        },
        "id": "J2qd4HmOBblp",
        "outputId": "2f643ebe-e036-4ab8-a0ed-40e6f8eb4609"
      },
      "execution_count": null,
      "outputs": [
        {
          "output_type": "stream",
          "name": "stdout",
          "text": [
            "Precision: 1.00\n",
            "Recall:    1.00\n",
            "F1-Score:  1.00\n",
            "\n",
            "Classification Report:\n",
            "               precision    recall  f1-score   support\n",
            "\n",
            "           0       1.00      1.00      1.00        10\n",
            "           1       1.00      1.00      1.00         9\n",
            "           2       1.00      1.00      1.00        11\n",
            "\n",
            "    accuracy                           1.00        30\n",
            "   macro avg       1.00      1.00      1.00        30\n",
            "weighted avg       1.00      1.00      1.00        30\n",
            "\n"
          ]
        }
      ]
    },
    {
      "cell_type": "code",
      "source": [
        "#  Q. 29. Write a python program to train a Decision Tree Classifier and  visualize the confusion matrix using Seaborn.\n",
        "\n",
        "import seaborn as sns\n",
        "import matplotlib.pyplot as plt\n",
        "from sklearn.datasets import load_iris\n",
        "from sklearn.tree import DecisionTreeClassifier\n",
        "from sklearn.model_selection import train_test_split\n",
        "from sklearn.metrics import confusion_matrix\n",
        "\n",
        "# Load the Iris dataset\n",
        "iris = load_iris()\n",
        "X, y = iris.data, iris.target\n",
        "class_names = iris.target_names\n",
        "\n",
        "# Split into train/test sets\n",
        "X_train, X_test, y_train, y_test = train_test_split(X, y, test_size=0.2, random_state=42)\n",
        "\n",
        "# Train Decision Tree Classifier\n",
        "clf = DecisionTreeClassifier(random_state=42)\n",
        "clf.fit(X_train, y_train)\n",
        "\n",
        "# Predict on test set\n",
        "y_pred = clf.predict(X_test)\n",
        "\n",
        "# Compute confusion matrix\n",
        "cm = confusion_matrix(y_test, y_pred)\n",
        "\n",
        "# Plot confusion matrix using seaborn heatmap\n",
        "plt.figure(figsize=(6,4))\n",
        "sns.heatmap(cm, annot=True, fmt='d', cmap='Blues',\n",
        "            xticklabels=class_names, yticklabels=class_names)\n",
        "plt.xlabel('Predicted Label')\n",
        "plt.ylabel('True Label')\n",
        "plt.title('Confusion Matrix - Decision Tree Classifier')\n",
        "plt.show()\n"
      ],
      "metadata": {
        "colab": {
          "base_uri": "https://localhost:8080/",
          "height": 410
        },
        "id": "WhQSEP9pBmTg",
        "outputId": "2a6549bd-5b59-4c1d-a073-1bf7fe890b76"
      },
      "execution_count": null,
      "outputs": [
        {
          "output_type": "display_data",
          "data": {
            "text/plain": [
              "<Figure size 600x400 with 2 Axes>"
            ],
            "image/png": "[encoded data removed]"
          },
          "metadata": {}
        }
      ]
    },
    {
      "cell_type": "code",
      "source": [
        "# Q. 30. Write a python program to train a Decision Tree Classifier and use GridSearchCV to find the optimize for max_depth and min_samples_split.\n",
        "\n",
        "from sklearn.datasets import load_iris\n",
        "from sklearn.tree import DecisionTreeClassifier\n",
        "from sklearn.model_selection import GridSearchCV, train_test_split\n",
        "from sklearn.metrics import accuracy_score\n",
        "\n",
        "# Load the Iris dataset\n",
        "iris = load_iris()\n",
        "X, y = iris.data, iris.target\n",
        "\n",
        "# Split into train/test sets\n",
        "X_train, X_test, y_train, y_test = train_test_split(X, y, test_size=0.2, random_state=42)\n",
        "\n",
        "# Define the parameter grid to search\n",
        "param_grid = {\n",
        "    'max_depth': [2, 3, 4, 5, 6, None],\n",
        "    'min_samples_split': [2, 5, 10]\n",
        "}\n",
        "\n",
        "# Initialize the Decision Tree Classifier\n",
        "clf = DecisionTreeClassifier(random_state=42)\n",
        "\n",
        "# Setup GridSearchCV\n",
        "grid_search = GridSearchCV(estimator=clf, param_grid=param_grid,\n",
        "                           cv=5, scoring='accuracy', n_jobs=-1)\n",
        "\n",
        "# Fit GridSearchCV\n",
        "grid_search.fit(X_train, y_train)\n",
        "\n",
        "# Best hyperparameters\n",
        "print(\"Best hyperparameters:\", grid_search.best_params_)\n",
        "\n",
        "# Predict with the best estimator\n",
        "best_clf = grid_search.best_estimator_\n",
        "y_pred = best_clf.predict(X_test)\n",
        "\n",
        "# Calculate accuracy\n",
        "accuracy = accuracy_score(y_test, y_pred)\n",
        "print(f\"Test Accuracy with best parameters: {accuracy:.2f}\")\n"
      ],
      "metadata": {
        "colab": {
          "base_uri": "https://localhost:8080/"
        },
        "id": "YHYjgm17Bx1E",
        "outputId": "6f4ac671-d5d7-42b6-a966-18c034bed545"
      },
      "execution_count": null,
      "outputs": [
        {
          "output_type": "stream",
          "name": "stdout",
          "text": [
            "Best hyperparameters: {'max_depth': 4, 'min_samples_split': 2}\n",
            "Test Accuracy with best parameters: 1.00\n"
          ]
        }
      ]
    }
  ]
}